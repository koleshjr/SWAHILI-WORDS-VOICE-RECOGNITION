{
  "cells": [
    {
      "cell_type": "markdown",
      "metadata": {
        "id": "view-in-github",
        "colab_type": "text"
      },
      "source": [
        "<a href=\"https://colab.research.google.com/github/koleshjr/SWAHILI-WORDS-VOICE-RECOGNITION/blob/main/Swahili_solution_(tts).ipynb\" target=\"_parent\"><img src=\"https://colab.research.google.com/assets/colab-badge.svg\" alt=\"Open In Colab\"/></a>"
      ]
    },
    {
      "cell_type": "code",
      "execution_count": null,
      "metadata": {
        "colab": {
          "base_uri": "https://localhost:8080/"
        },
        "id": "mc_K_u-i5kya",
        "outputId": "f012d5bd-ea06-44f2-829b-324e7112d412"
      },
      "outputs": [
        {
          "name": "stdout",
          "output_type": "stream",
          "text": [
            "\u001b[K     |████████████████████████████████| 225 kB 5.2 MB/s \n",
            "\u001b[K     |████████████████████████████████| 1.9 MB 6.9 MB/s \n",
            "\u001b[K     |████████████████████████████████| 53 kB 3.0 MB/s \n",
            "\u001b[K     |████████████████████████████████| 183 kB 78.8 MB/s \n",
            "\u001b[K     |████████████████████████████████| 194 kB 46.6 MB/s \n",
            "\u001b[K     |████████████████████████████████| 804.1 MB 2.7 kB/s \n",
            "\u001b[K     |████████████████████████████████| 19.1 MB 1.0 MB/s \n",
            "\u001b[K     |████████████████████████████████| 19.1 MB 1.1 MB/s \n",
            "\u001b[K     |████████████████████████████████| 21.0 MB 1.2 MB/s \n",
            "\u001b[K     |████████████████████████████████| 23.2 MB 1.3 MB/s \n",
            "\u001b[K     |████████████████████████████████| 23.3 MB 85.7 MB/s \n",
            "\u001b[K     |████████████████████████████████| 23.3 MB 98.8 MB/s \n",
            "\u001b[K     |████████████████████████████████| 22.1 MB 1.3 MB/s \n",
            "\u001b[K     |████████████████████████████████| 22.1 MB 1.3 MB/s \n",
            "\u001b[K     |████████████████████████████████| 17.4 MB 56.9 MB/s \n",
            "\u001b[?25h  Building wheel for librosa (setup.py) ... \u001b[?25l\u001b[?25hdone\n",
            "\u001b[31mERROR: pip's dependency resolver does not currently take into account all the packages that are installed. This behaviour is the source of the following dependency conflicts.\n",
            "torchtext 0.13.0 requires torch==1.12.0, but you have torch 1.8.1 which is incompatible.\n",
            "fastdownload 0.0.7 requires fastcore>=1.3.26, but you have fastcore 1.3.20 which is incompatible.\u001b[0m\n"
          ]
        }
      ],
      "source": [
        "!pip install fastai --upgrade --q\n",
        "!pip install fastaudio --q\n",
        "exit()"
      ]
    },
    {
      "cell_type": "code",
      "execution_count": null,
      "metadata": {
        "colab": {
          "base_uri": "https://localhost:8080/"
        },
        "id": "lA81j1cFfGoB",
        "outputId": "f9b846d4-a072-463b-db1b-473c2087f2ba"
      },
      "outputs": [
        {
          "name": "stdout",
          "output_type": "stream",
          "text": [
            "Mounted at /content/drive\n"
          ]
        }
      ],
      "source": [
        "from google.colab import drive\n",
        "drive.mount('/content/drive')"
      ]
    },
    {
      "cell_type": "code",
      "execution_count": null,
      "metadata": {
        "colab": {
          "base_uri": "https://localhost:8080/"
        },
        "id": "zrem-qfo6qzn",
        "outputId": "38c2c43b-e245-4a5c-c9df-fb7539b0b820"
      },
      "outputs": [
        {
          "name": "stdout",
          "output_type": "stream",
          "text": [
            "CPU times: user 99.2 ms, sys: 13.9 ms, total: 113 ms\n",
            "Wall time: 15.9 s\n"
          ]
        }
      ],
      "source": [
        "%%time\n",
        "!unzip -o -q '/content/drive/MyDrive/swahili_audio_classification/Swahili_words.zip' -d \"/content/Swahili_words\""
      ]
    },
    {
      "cell_type": "code",
      "execution_count": null,
      "metadata": {
        "colab": {
          "base_uri": "https://localhost:8080/"
        },
        "id": "fmYjUh2J5ll3",
        "outputId": "d5a0e5b1-3c5e-4dde-d319-3b0c7fc1829e"
      },
      "outputs": [
        {
          "output_type": "stream",
          "name": "stderr",
          "text": [
            "/usr/local/lib/python3.7/dist-packages/torchaudio/backend/utils.py:47: UserWarning: \"torchaudio.USE_SOUNDFILE_LEGACY_INTERFACE\" flag is deprecated and will be removed in 0.9.0. Please remove the use of flag.\n",
            "  '\"torchaudio.USE_SOUNDFILE_LEGACY_INTERFACE\" flag is deprecated and will be removed in 0.9.0. '\n"
          ]
        }
      ],
      "source": [
        "import os\n",
        "import random\n",
        "import warnings\n",
        "from fastai.vision.all import *\n",
        "from fastaudio.core.all import *\n",
        "from fastaudio.augment.all import *\n",
        "import torch\n",
        "\n",
        "path = \"/content/drive/MyDrive/swahili_audio_classification/\"\n",
        "warnings.filterwarnings('ignore')\n"
      ]
    },
    {
      "cell_type": "code",
      "execution_count": null,
      "metadata": {
        "id": "gkyqPT-grrLv"
      },
      "outputs": [],
      "source": [
        "# AddNoiseGPU, ChangeVolumeGPU, DeltaGPU, MaskFreqGPU, MaskTimeGPU, SignalCutoutGPU, SignalLossGPU, TfmResizeGPU\n",
        "# help(TfmResizeGPU)"
      ]
    },
    {
      "cell_type": "code",
      "execution_count": null,
      "metadata": {
        "colab": {
          "base_uri": "https://localhost:8080/",
          "height": 424
        },
        "id": "21VERLMH9iL9",
        "outputId": "1860f5c4-f702-4155-8d2a-5fe6658c3e59"
      },
      "outputs": [
        {
          "output_type": "execute_result",
          "data": {
            "text/plain": [
              "                  Word_id Swahili_word English_translation\n",
              "0     id_v8rz06e6rv31.wav        mbili                 two\n",
              "1     id_vmbwicdpfn68.wav         tatu               three\n",
              "2     id_injlouhxg1hg.wav         ndio                 yes\n",
              "3     id_gdq23p6xgzya.wav          nne                four\n",
              "4     id_lpstklz51zpz.wav         nane               eight\n",
              "...                   ...          ...                 ...\n",
              "4195  id_ho8aqa3s42zp.wav       hapana                  no\n",
              "4196  id_3lhkgf9dqr4c.wav         kumi                 ten\n",
              "4197  id_ixb7vv4i0zct.wav         tano                five\n",
              "4198  id_7tboov3kavg4.wav          nne                four\n",
              "4199  id_de7l1v9qibbc.wav         kumi                 ten\n",
              "\n",
              "[4200 rows x 3 columns]"
            ],
            "text/html": [
              "\n",
              "  <div id=\"df-6343433e-e38c-4363-9e72-a3c8bbc76f83\">\n",
              "    <div class=\"colab-df-container\">\n",
              "      <div>\n",
              "<style scoped>\n",
              "    .dataframe tbody tr th:only-of-type {\n",
              "        vertical-align: middle;\n",
              "    }\n",
              "\n",
              "    .dataframe tbody tr th {\n",
              "        vertical-align: top;\n",
              "    }\n",
              "\n",
              "    .dataframe thead th {\n",
              "        text-align: right;\n",
              "    }\n",
              "</style>\n",
              "<table border=\"1\" class=\"dataframe\">\n",
              "  <thead>\n",
              "    <tr style=\"text-align: right;\">\n",
              "      <th></th>\n",
              "      <th>Word_id</th>\n",
              "      <th>Swahili_word</th>\n",
              "      <th>English_translation</th>\n",
              "    </tr>\n",
              "  </thead>\n",
              "  <tbody>\n",
              "    <tr>\n",
              "      <th>0</th>\n",
              "      <td>id_v8rz06e6rv31.wav</td>\n",
              "      <td>mbili</td>\n",
              "      <td>two</td>\n",
              "    </tr>\n",
              "    <tr>\n",
              "      <th>1</th>\n",
              "      <td>id_vmbwicdpfn68.wav</td>\n",
              "      <td>tatu</td>\n",
              "      <td>three</td>\n",
              "    </tr>\n",
              "    <tr>\n",
              "      <th>2</th>\n",
              "      <td>id_injlouhxg1hg.wav</td>\n",
              "      <td>ndio</td>\n",
              "      <td>yes</td>\n",
              "    </tr>\n",
              "    <tr>\n",
              "      <th>3</th>\n",
              "      <td>id_gdq23p6xgzya.wav</td>\n",
              "      <td>nne</td>\n",
              "      <td>four</td>\n",
              "    </tr>\n",
              "    <tr>\n",
              "      <th>4</th>\n",
              "      <td>id_lpstklz51zpz.wav</td>\n",
              "      <td>nane</td>\n",
              "      <td>eight</td>\n",
              "    </tr>\n",
              "    <tr>\n",
              "      <th>...</th>\n",
              "      <td>...</td>\n",
              "      <td>...</td>\n",
              "      <td>...</td>\n",
              "    </tr>\n",
              "    <tr>\n",
              "      <th>4195</th>\n",
              "      <td>id_ho8aqa3s42zp.wav</td>\n",
              "      <td>hapana</td>\n",
              "      <td>no</td>\n",
              "    </tr>\n",
              "    <tr>\n",
              "      <th>4196</th>\n",
              "      <td>id_3lhkgf9dqr4c.wav</td>\n",
              "      <td>kumi</td>\n",
              "      <td>ten</td>\n",
              "    </tr>\n",
              "    <tr>\n",
              "      <th>4197</th>\n",
              "      <td>id_ixb7vv4i0zct.wav</td>\n",
              "      <td>tano</td>\n",
              "      <td>five</td>\n",
              "    </tr>\n",
              "    <tr>\n",
              "      <th>4198</th>\n",
              "      <td>id_7tboov3kavg4.wav</td>\n",
              "      <td>nne</td>\n",
              "      <td>four</td>\n",
              "    </tr>\n",
              "    <tr>\n",
              "      <th>4199</th>\n",
              "      <td>id_de7l1v9qibbc.wav</td>\n",
              "      <td>kumi</td>\n",
              "      <td>ten</td>\n",
              "    </tr>\n",
              "  </tbody>\n",
              "</table>\n",
              "<p>4200 rows × 3 columns</p>\n",
              "</div>\n",
              "      <button class=\"colab-df-convert\" onclick=\"convertToInteractive('df-6343433e-e38c-4363-9e72-a3c8bbc76f83')\"\n",
              "              title=\"Convert this dataframe to an interactive table.\"\n",
              "              style=\"display:none;\">\n",
              "        \n",
              "  <svg xmlns=\"http://www.w3.org/2000/svg\" height=\"24px\"viewBox=\"0 0 24 24\"\n",
              "       width=\"24px\">\n",
              "    <path d=\"M0 0h24v24H0V0z\" fill=\"none\"/>\n",
              "    <path d=\"M18.56 5.44l.94 2.06.94-2.06 2.06-.94-2.06-.94-.94-2.06-.94 2.06-2.06.94zm-11 1L8.5 8.5l.94-2.06 2.06-.94-2.06-.94L8.5 2.5l-.94 2.06-2.06.94zm10 10l.94 2.06.94-2.06 2.06-.94-2.06-.94-.94-2.06-.94 2.06-2.06.94z\"/><path d=\"M17.41 7.96l-1.37-1.37c-.4-.4-.92-.59-1.43-.59-.52 0-1.04.2-1.43.59L10.3 9.45l-7.72 7.72c-.78.78-.78 2.05 0 2.83L4 21.41c.39.39.9.59 1.41.59.51 0 1.02-.2 1.41-.59l7.78-7.78 2.81-2.81c.8-.78.8-2.07 0-2.86zM5.41 20L4 18.59l7.72-7.72 1.47 1.35L5.41 20z\"/>\n",
              "  </svg>\n",
              "      </button>\n",
              "      \n",
              "  <style>\n",
              "    .colab-df-container {\n",
              "      display:flex;\n",
              "      flex-wrap:wrap;\n",
              "      gap: 12px;\n",
              "    }\n",
              "\n",
              "    .colab-df-convert {\n",
              "      background-color: #E8F0FE;\n",
              "      border: none;\n",
              "      border-radius: 50%;\n",
              "      cursor: pointer;\n",
              "      display: none;\n",
              "      fill: #1967D2;\n",
              "      height: 32px;\n",
              "      padding: 0 0 0 0;\n",
              "      width: 32px;\n",
              "    }\n",
              "\n",
              "    .colab-df-convert:hover {\n",
              "      background-color: #E2EBFA;\n",
              "      box-shadow: 0px 1px 2px rgba(60, 64, 67, 0.3), 0px 1px 3px 1px rgba(60, 64, 67, 0.15);\n",
              "      fill: #174EA6;\n",
              "    }\n",
              "\n",
              "    [theme=dark] .colab-df-convert {\n",
              "      background-color: #3B4455;\n",
              "      fill: #D2E3FC;\n",
              "    }\n",
              "\n",
              "    [theme=dark] .colab-df-convert:hover {\n",
              "      background-color: #434B5C;\n",
              "      box-shadow: 0px 1px 3px 1px rgba(0, 0, 0, 0.15);\n",
              "      filter: drop-shadow(0px 1px 2px rgba(0, 0, 0, 0.3));\n",
              "      fill: #FFFFFF;\n",
              "    }\n",
              "  </style>\n",
              "\n",
              "      <script>\n",
              "        const buttonEl =\n",
              "          document.querySelector('#df-6343433e-e38c-4363-9e72-a3c8bbc76f83 button.colab-df-convert');\n",
              "        buttonEl.style.display =\n",
              "          google.colab.kernel.accessAllowed ? 'block' : 'none';\n",
              "\n",
              "        async function convertToInteractive(key) {\n",
              "          const element = document.querySelector('#df-6343433e-e38c-4363-9e72-a3c8bbc76f83');\n",
              "          const dataTable =\n",
              "            await google.colab.kernel.invokeFunction('convertToInteractive',\n",
              "                                                     [key], {});\n",
              "          if (!dataTable) return;\n",
              "\n",
              "          const docLinkHtml = 'Like what you see? Visit the ' +\n",
              "            '<a target=\"_blank\" href=https://colab.research.google.com/notebooks/data_table.ipynb>data table notebook</a>'\n",
              "            + ' to learn more about interactive tables.';\n",
              "          element.innerHTML = '';\n",
              "          dataTable['output_type'] = 'display_data';\n",
              "          await google.colab.output.renderOutput(dataTable, element);\n",
              "          const docLink = document.createElement('div');\n",
              "          docLink.innerHTML = docLinkHtml;\n",
              "          element.appendChild(docLink);\n",
              "        }\n",
              "      </script>\n",
              "    </div>\n",
              "  </div>\n",
              "  "
            ]
          },
          "metadata": {},
          "execution_count": 3
        }
      ],
      "source": [
        "train = pd.read_csv(path+\"Train.csv\")\n",
        "test = pd.read_csv(path+\"Test.csv\")\n",
        "ss = pd.read_csv(path+\"SampleSubmission.csv\")\n",
        "\n",
        "train"
      ]
    },
    {
      "cell_type": "code",
      "execution_count": null,
      "metadata": {
        "id": "nNLtswLO6otJ"
      },
      "outputs": [],
      "source": [
        "train[\"Word_id\"] = \"/content/Swahili_words/\" + train[\"Word_id\"]\n",
        "test[\"Word_id\"] = \"/content/Swahili_words/\" + test[\"Word_id\"]"
      ]
    },
    {
      "cell_type": "code",
      "execution_count": null,
      "metadata": {
        "id": "A9ELlc53-kjB"
      },
      "outputs": [],
      "source": [
        "def random_seed(seed_value, use_cuda): \n",
        "   np.random.seed(seed_value)\n",
        "   torch.manual_seed(seed_value) \n",
        "\n",
        "   random.seed(seed_value)\n",
        "\n",
        "   if use_cuda: \n",
        "      torch.cuda.manual_seed(seed_value) \n",
        "      torch.cuda.manual_seed_all(seed_value) \n",
        "\n",
        "      torch.backends.cudnn.deterministic = True \n",
        "\n",
        "      torch.backends.cudnn.benchmark = False \n",
        "\n",
        "random_seed(2022, True)\n",
        "set_seed(2022, True)"
      ]
    },
    {
      "cell_type": "code",
      "execution_count": null,
      "metadata": {
        "id": "4MNTy7pDXiSU"
      },
      "outputs": [],
      "source": [
        "augs = [\n",
        "        AddNoiseGPU, ChangeVolumeGPU, DeltaGPU, MaskFreqGPU, MaskTimeGPU, SignalCutoutGPU, SignalLossGPU, TfmResizeGPU\n",
        "]"
      ]
    },
    {
      "cell_type": "code",
      "execution_count": null,
      "metadata": {
        "id": "AYpVKvKx7PEZ"
      },
      "outputs": [],
      "source": [
        "params = {'n_mels':64}\n",
        "cfg = AudioConfig.BasicMelSpectrogram(**params) # pull up the voice config\n",
        "aud2spec = AudioToSpec.from_cfg(cfg) # let audio to spec use the config"
      ]
    },
    {
      "cell_type": "code",
      "execution_count": null,
      "metadata": {
        "id": "Rnq9ZAmD7R0M"
      },
      "outputs": [],
      "source": [
        "class AudioNormalize(Transform):\n",
        "    \"Normalizes a single `AudioTensor`.\"\n",
        "    def encodes(self, x:AudioTensor): return (x-x.mean()) / x.std()"
      ]
    },
    {
      "cell_type": "code",
      "execution_count": null,
      "metadata": {
        "id": "ntaC-Utw7UgU"
      },
      "outputs": [],
      "source": [
        "audio = DataBlock(blocks=(AudioBlock(force_mono=True, crop_signal_to=4500), \n",
        "                          CategoryBlock),\n",
        "                      splitter=TrainTestSplitter(0.05, stratify=train[\"Swahili_word\"], shuffle = 65253, random_state=2022),\n",
        "                      get_x = ColReader(0),\n",
        "                      get_y=ColReader(1),\n",
        "                      item_tfms = [AudioNormalize],\n",
        "                      batch_tfms = [aud2spec, ChangeVolumeGPU, SignalLossGPU]        \n",
        "    )"
      ]
    },
    {
      "cell_type": "code",
      "execution_count": null,
      "metadata": {
        "id": "Y-tWSlrn7WM5"
      },
      "outputs": [],
      "source": [
        "dls = audio.dataloaders(train, bs=32, num_workers=0, device='cuda')\n",
        "dls.rng.seed(2022)"
      ]
    },
    {
      "cell_type": "code",
      "execution_count": null,
      "metadata": {
        "id": "LzwBxudO7kSF"
      },
      "outputs": [],
      "source": [
        "learn = cnn_learner(dls, resnet50, CrossEntropyLossFlat(), metrics=accuracy, n_in=1)"
      ]
    },
    {
      "cell_type": "code",
      "execution_count": null,
      "metadata": {
        "colab": {
          "base_uri": "https://localhost:8080/",
          "height": 300
        },
        "id": "mc3WfRMGVVu0",
        "outputId": "cad9e7c2-1a7b-467f-d556-33409d1d1682"
      },
      "outputs": [
        {
          "output_type": "display_data",
          "data": {
            "text/plain": [
              "<IPython.core.display.HTML object>"
            ],
            "text/html": [
              "\n",
              "<style>\n",
              "    /* Turns off some styling */\n",
              "    progress {\n",
              "        /* gets rid of default border in Firefox and Opera. */\n",
              "        border: none;\n",
              "        /* Needs to be in here for Safari polyfill so background images work as expected. */\n",
              "        background-size: auto;\n",
              "    }\n",
              "    progress:not([value]), progress:not([value])::-webkit-progress-bar {\n",
              "        background: repeating-linear-gradient(45deg, #7e7e7e, #7e7e7e 10px, #5c5c5c 10px, #5c5c5c 20px);\n",
              "    }\n",
              "    .progress-bar-interrupted, .progress-bar-interrupted::-webkit-progress-bar {\n",
              "        background: #F44336;\n",
              "    }\n",
              "</style>\n"
            ]
          },
          "metadata": {}
        },
        {
          "output_type": "display_data",
          "data": {
            "text/plain": [
              "<IPython.core.display.HTML object>"
            ],
            "text/html": [
              ""
            ]
          },
          "metadata": {}
        },
        {
          "output_type": "stream",
          "name": "stdout",
          "text": [
            "0.012022644281387329\n"
          ]
        },
        {
          "output_type": "display_data",
          "data": {
            "text/plain": [
              "<Figure size 432x288 with 1 Axes>"
            ],
            "image/png": "[encoded data removed]"
          },
          "metadata": {
            "needs_background": "light"
          }
        }
      ],
      "source": [
        "lr = learn.lr_find()[0]\n",
        "print(lr)"
      ]
    },
    {
      "cell_type": "code",
      "execution_count": null,
      "metadata": {
        "colab": {
          "base_uri": "https://localhost:8080/",
          "height": 664
        },
        "id": "ZunlZJEj7ndy",
        "outputId": "33083807-2238-41ee-8aab-3e677a22fa2b"
      },
      "outputs": [
        {
          "output_type": "display_data",
          "data": {
            "text/plain": [
              "<IPython.core.display.HTML object>"
            ],
            "text/html": [
              "\n",
              "<style>\n",
              "    /* Turns off some styling */\n",
              "    progress {\n",
              "        /* gets rid of default border in Firefox and Opera. */\n",
              "        border: none;\n",
              "        /* Needs to be in here for Safari polyfill so background images work as expected. */\n",
              "        background-size: auto;\n",
              "    }\n",
              "    progress:not([value]), progress:not([value])::-webkit-progress-bar {\n",
              "        background: repeating-linear-gradient(45deg, #7e7e7e, #7e7e7e 10px, #5c5c5c 10px, #5c5c5c 20px);\n",
              "    }\n",
              "    .progress-bar-interrupted, .progress-bar-interrupted::-webkit-progress-bar {\n",
              "        background: #F44336;\n",
              "    }\n",
              "</style>\n"
            ]
          },
          "metadata": {}
        },
        {
          "output_type": "display_data",
          "data": {
            "text/plain": [
              "<IPython.core.display.HTML object>"
            ],
            "text/html": [
              "<table border=\"1\" class=\"dataframe\">\n",
              "  <thead>\n",
              "    <tr style=\"text-align: left;\">\n",
              "      <th>epoch</th>\n",
              "      <th>train_loss</th>\n",
              "      <th>valid_loss</th>\n",
              "      <th>accuracy</th>\n",
              "      <th>time</th>\n",
              "    </tr>\n",
              "  </thead>\n",
              "  <tbody>\n",
              "    <tr>\n",
              "      <td>0</td>\n",
              "      <td>2.641793</td>\n",
              "      <td>2.127775</td>\n",
              "      <td>0.428571</td>\n",
              "      <td>00:32</td>\n",
              "    </tr>\n",
              "  </tbody>\n",
              "</table>"
            ]
          },
          "metadata": {}
        },
        {
          "output_type": "stream",
          "name": "stdout",
          "text": [
            "Better model found at epoch 0 with valid_loss value: 2.127775192260742.\n"
          ]
        },
        {
          "output_type": "display_data",
          "data": {
            "text/plain": [
              "<IPython.core.display.HTML object>"
            ],
            "text/html": [
              "\n",
              "<style>\n",
              "    /* Turns off some styling */\n",
              "    progress {\n",
              "        /* gets rid of default border in Firefox and Opera. */\n",
              "        border: none;\n",
              "        /* Needs to be in here for Safari polyfill so background images work as expected. */\n",
              "        background-size: auto;\n",
              "    }\n",
              "    progress:not([value]), progress:not([value])::-webkit-progress-bar {\n",
              "        background: repeating-linear-gradient(45deg, #7e7e7e, #7e7e7e 10px, #5c5c5c 10px, #5c5c5c 20px);\n",
              "    }\n",
              "    .progress-bar-interrupted, .progress-bar-interrupted::-webkit-progress-bar {\n",
              "        background: #F44336;\n",
              "    }\n",
              "</style>\n"
            ]
          },
          "metadata": {}
        },
        {
          "output_type": "display_data",
          "data": {
            "text/plain": [
              "<IPython.core.display.HTML object>"
            ],
            "text/html": [
              "<table border=\"1\" class=\"dataframe\">\n",
              "  <thead>\n",
              "    <tr style=\"text-align: left;\">\n",
              "      <th>epoch</th>\n",
              "      <th>train_loss</th>\n",
              "      <th>valid_loss</th>\n",
              "      <th>accuracy</th>\n",
              "      <th>time</th>\n",
              "    </tr>\n",
              "  </thead>\n",
              "  <tbody>\n",
              "    <tr>\n",
              "      <td>0</td>\n",
              "      <td>0.619518</td>\n",
              "      <td>0.400031</td>\n",
              "      <td>0.885714</td>\n",
              "      <td>00:39</td>\n",
              "    </tr>\n",
              "    <tr>\n",
              "      <td>1</td>\n",
              "      <td>0.437004</td>\n",
              "      <td>0.437206</td>\n",
              "      <td>0.876190</td>\n",
              "      <td>00:40</td>\n",
              "    </tr>\n",
              "    <tr>\n",
              "      <td>2</td>\n",
              "      <td>0.424718</td>\n",
              "      <td>0.314850</td>\n",
              "      <td>0.909524</td>\n",
              "      <td>00:40</td>\n",
              "    </tr>\n",
              "    <tr>\n",
              "      <td>3</td>\n",
              "      <td>0.356089</td>\n",
              "      <td>0.388938</td>\n",
              "      <td>0.880952</td>\n",
              "      <td>00:39</td>\n",
              "    </tr>\n",
              "    <tr>\n",
              "      <td>4</td>\n",
              "      <td>0.239093</td>\n",
              "      <td>0.371434</td>\n",
              "      <td>0.919048</td>\n",
              "      <td>00:40</td>\n",
              "    </tr>\n",
              "    <tr>\n",
              "      <td>5</td>\n",
              "      <td>0.207394</td>\n",
              "      <td>0.242640</td>\n",
              "      <td>0.928571</td>\n",
              "      <td>00:39</td>\n",
              "    </tr>\n",
              "    <tr>\n",
              "      <td>6</td>\n",
              "      <td>0.149282</td>\n",
              "      <td>0.197719</td>\n",
              "      <td>0.938095</td>\n",
              "      <td>00:40</td>\n",
              "    </tr>\n",
              "    <tr>\n",
              "      <td>7</td>\n",
              "      <td>0.114437</td>\n",
              "      <td>0.167660</td>\n",
              "      <td>0.952381</td>\n",
              "      <td>00:39</td>\n",
              "    </tr>\n",
              "    <tr>\n",
              "      <td>8</td>\n",
              "      <td>0.106469</td>\n",
              "      <td>0.139726</td>\n",
              "      <td>0.966667</td>\n",
              "      <td>00:40</td>\n",
              "    </tr>\n",
              "    <tr>\n",
              "      <td>9</td>\n",
              "      <td>0.082663</td>\n",
              "      <td>0.103311</td>\n",
              "      <td>0.961905</td>\n",
              "      <td>00:40</td>\n",
              "    </tr>\n",
              "    <tr>\n",
              "      <td>10</td>\n",
              "      <td>0.076398</td>\n",
              "      <td>0.090892</td>\n",
              "      <td>0.980952</td>\n",
              "      <td>00:39</td>\n",
              "    </tr>\n",
              "    <tr>\n",
              "      <td>11</td>\n",
              "      <td>0.056907</td>\n",
              "      <td>0.087779</td>\n",
              "      <td>0.971429</td>\n",
              "      <td>00:39</td>\n",
              "    </tr>\n",
              "  </tbody>\n",
              "</table>"
            ]
          },
          "metadata": {}
        },
        {
          "output_type": "stream",
          "name": "stdout",
          "text": [
            "Better model found at epoch 0 with valid_loss value: 0.4000309407711029.\n",
            "Better model found at epoch 2 with valid_loss value: 0.31485021114349365.\n",
            "Better model found at epoch 5 with valid_loss value: 0.24263961613178253.\n",
            "Better model found at epoch 6 with valid_loss value: 0.19771906733512878.\n",
            "Better model found at epoch 7 with valid_loss value: 0.1676599234342575.\n",
            "Better model found at epoch 8 with valid_loss value: 0.13972628116607666.\n",
            "Better model found at epoch 9 with valid_loss value: 0.10331077873706818.\n",
            "Better model found at epoch 10 with valid_loss value: 0.0908915176987648.\n",
            "Better model found at epoch 11 with valid_loss value: 0.08777874708175659.\n"
          ]
        }
      ],
      "source": [
        "callbacks = [\n",
        "            # EarlyStoppingCallback(monitor='valid_loss', min_delta=0.05, patience=4),\n",
        "             SaveModelCallback(monitor='valid_loss') \n",
        "             ]\n",
        "learn.fine_tune(12, wd=0.1, base_lr=lr, cbs=callbacks)"
      ]
    },
    {
      "cell_type": "code",
      "execution_count": null,
      "metadata": {
        "id": "mjuQ8QxhQu9Q"
      },
      "outputs": [],
      "source": [
        "# lr = learn.lr_find()[0]\n",
        "# print(lr)"
      ]
    },
    {
      "cell_type": "code",
      "execution_count": null,
      "metadata": {
        "id": "nIgY8_Z8QxXg"
      },
      "outputs": [],
      "source": [
        "# learn.fine_tune(10, wd=0.1, base_lr=lr, cbs=callbacks)"
      ]
    },
    {
      "cell_type": "code",
      "execution_count": null,
      "metadata": {
        "id": "yziC5TNoWQKn"
      },
      "outputs": [],
      "source": [
        "# lr = learn.lr_find()[0]\n",
        "# print(lr)"
      ]
    },
    {
      "cell_type": "code",
      "execution_count": null,
      "metadata": {
        "id": "DC9xnOp9WbiN"
      },
      "outputs": [],
      "source": [
        "# learn.fine_tune(5, wd=0.01, base_lr=lr, cbs=callbacks)"
      ]
    },
    {
      "cell_type": "markdown",
      "metadata": {
        "id": "r0Aho6bLguh0"
      },
      "source": [
        "```\n",
        "epoch \ttrain_loss \tvalid_loss \taccuracy \ttime\n",
        "0 \t1.444286 \t1.089325 \t0.668163 \t08:18\n",
        "1 \t1.064188 \t0.869083 \t0.728936 \t08:19\n",
        "2 \t0.866237 \t0.765316 \t0.763812 \t08:18\n",
        "3 \t0.701694 \t0.697653 \t0.780041 \t08:23\n",
        "4 \t0.556303 \t0.620731 \t0.806975 \t08:20\n",
        "5 \t0.495780 \t0.636264 \t0.809392 \t08:25\n",
        "6 \t0.354235 \t0.619374 \t0.821478 \t08:22\n",
        "7 \t0.250819 \t0.633827 \t0.822169 \t08:14\n",
        "\n",
        "No improvement since epoch 4: early stopping\n",
        "\n",
        "```"
      ]
    },
    {
      "cell_type": "code",
      "execution_count": null,
      "metadata": {
        "id": "4VvZIdP2MwmG"
      },
      "outputs": [],
      "source": [
        "# learn.unfreeze()\n",
        "# learn.fine_tune(3, wd=0.1, base_lr=lr, cbs=callbacks)\n",
        "# # learn.fit_one_cycle(3, lr_max=slice(1e-6,1e-4))"
      ]
    },
    {
      "cell_type": "code",
      "execution_count": null,
      "metadata": {
        "id": "wIge51A6q8sY"
      },
      "outputs": [],
      "source": [
        "# learn.unfreeze()\n",
        "# learn.fine_tune(2, wd=0.1, base_lr=lr, cbs=callbacks)\n",
        "# # learn.fit_one_cycle(3, lr_max=slice(1e-6,1e-5))"
      ]
    },
    {
      "cell_type": "code",
      "execution_count": null,
      "metadata": {
        "colab": {
          "base_uri": "https://localhost:8080/",
          "height": 37
        },
        "id": "zh6ADCGp7y6W",
        "outputId": "b4d46ea8-f5e6-4bcb-af5c-a8ea01a5acf0"
      },
      "outputs": [
        {
          "output_type": "display_data",
          "data": {
            "text/plain": [
              "<IPython.core.display.HTML object>"
            ],
            "text/html": [
              "\n",
              "<style>\n",
              "    /* Turns off some styling */\n",
              "    progress {\n",
              "        /* gets rid of default border in Firefox and Opera. */\n",
              "        border: none;\n",
              "        /* Needs to be in here for Safari polyfill so background images work as expected. */\n",
              "        background-size: auto;\n",
              "    }\n",
              "    progress:not([value]), progress:not([value])::-webkit-progress-bar {\n",
              "        background: repeating-linear-gradient(45deg, #7e7e7e, #7e7e7e 10px, #5c5c5c 10px, #5c5c5c 20px);\n",
              "    }\n",
              "    .progress-bar-interrupted, .progress-bar-interrupted::-webkit-progress-bar {\n",
              "        background: #F44336;\n",
              "    }\n",
              "</style>\n"
            ]
          },
          "metadata": {}
        },
        {
          "output_type": "display_data",
          "data": {
            "text/plain": [
              "<IPython.core.display.HTML object>"
            ],
            "text/html": [
              "\n",
              "    <div>\n",
              "      <progress value='0' class='' max='12' style='width:300px; height:20px; vertical-align: middle;'></progress>\n",
              "      \n",
              "    </div>\n",
              "    \n"
            ]
          },
          "metadata": {}
        },
        {
          "output_type": "display_data",
          "data": {
            "text/plain": [
              "<IPython.core.display.HTML object>"
            ],
            "text/html": [
              "\n",
              "<style>\n",
              "    /* Turns off some styling */\n",
              "    progress {\n",
              "        /* gets rid of default border in Firefox and Opera. */\n",
              "        border: none;\n",
              "        /* Needs to be in here for Safari polyfill so background images work as expected. */\n",
              "        background-size: auto;\n",
              "    }\n",
              "    progress:not([value]), progress:not([value])::-webkit-progress-bar {\n",
              "        background: repeating-linear-gradient(45deg, #7e7e7e, #7e7e7e 10px, #5c5c5c 10px, #5c5c5c 20px);\n",
              "    }\n",
              "    .progress-bar-interrupted, .progress-bar-interrupted::-webkit-progress-bar {\n",
              "        background: #F44336;\n",
              "    }\n",
              "</style>\n"
            ]
          },
          "metadata": {}
        },
        {
          "output_type": "display_data",
          "data": {
            "text/plain": [
              "<IPython.core.display.HTML object>"
            ],
            "text/html": [
              ""
            ]
          },
          "metadata": {}
        }
      ],
      "source": [
        "tdl = learn.dls.test_dl(test[\"Word_id\"]) # quicly create test data loader\n",
        "test_preds_tta, test_labels_tta = learn.tta(dl=tdl, n=10)"
      ]
    },
    {
      "cell_type": "code",
      "execution_count": null,
      "metadata": {
        "colab": {
          "base_uri": "https://localhost:8080/",
          "height": 270
        },
        "id": "xipApfJA70xF",
        "outputId": "a45f805e-4aed-4298-fb2b-267d5a8828b6"
      },
      "outputs": [
        {
          "output_type": "execute_result",
          "data": {
            "text/plain": [
              "               Word_id        hapana          kumi         mbili  \\\n",
              "0  id_jp2pxl0r84ya.wav  3.445582e-07  1.783333e-07  1.657284e-06   \n",
              "1  id_ndduqqvthbpx.wav  8.880914e-09  1.878523e-08  4.015437e-09   \n",
              "2  id_36oxymxfcm6q.wav  1.540861e-06  9.318959e-06  8.571685e-07   \n",
              "3  id_ue9b0to760pg.wav  1.321413e-05  1.136568e-06  1.271602e-07   \n",
              "4  id_prja4oprb914.wav  8.570924e-02  3.649833e-02  3.115756e-02   \n",
              "\n",
              "           moja          nane          ndio           nne          saba  \\\n",
              "0  2.940470e-06  3.628748e-07  2.491380e-05  4.880637e-06  5.699742e-06   \n",
              "1  7.618248e-10  2.417528e-08  1.169324e-09  1.092636e-09  7.952422e-09   \n",
              "2  1.454236e-06  3.387828e-06  6.571866e-07  5.610405e-07  9.271092e-07   \n",
              "3  7.450243e-08  2.181056e-06  4.399706e-06  1.034619e-06  1.440637e-06   \n",
              "4  9.171913e-02  4.568528e-01  4.863097e-02  7.306726e-03  5.627425e-02   \n",
              "\n",
              "           sita          tano          tatu          tisa  \n",
              "0  9.999565e-01  3.848114e-07  6.001011e-07  1.503883e-06  \n",
              "1  3.525249e-09  5.649542e-08  8.813495e-09  9.999999e-01  \n",
              "2  2.176834e-06  8.479898e-06  1.880938e-06  9.999688e-01  \n",
              "3  1.713531e-06  9.999729e-01  1.327094e-06  3.336706e-07  \n",
              "4  5.463742e-02  3.728841e-02  5.091821e-02  4.300697e-02  "
            ],
            "text/html": [
              "\n",
              "  <div id=\"df-8d52c1f3-47ef-4ae3-b01d-f234e80e3e35\">\n",
              "    <div class=\"colab-df-container\">\n",
              "      <div>\n",
              "<style scoped>\n",
              "    .dataframe tbody tr th:only-of-type {\n",
              "        vertical-align: middle;\n",
              "    }\n",
              "\n",
              "    .dataframe tbody tr th {\n",
              "        vertical-align: top;\n",
              "    }\n",
              "\n",
              "    .dataframe thead th {\n",
              "        text-align: right;\n",
              "    }\n",
              "</style>\n",
              "<table border=\"1\" class=\"dataframe\">\n",
              "  <thead>\n",
              "    <tr style=\"text-align: right;\">\n",
              "      <th></th>\n",
              "      <th>Word_id</th>\n",
              "      <th>hapana</th>\n",
              "      <th>kumi</th>\n",
              "      <th>mbili</th>\n",
              "      <th>moja</th>\n",
              "      <th>nane</th>\n",
              "      <th>ndio</th>\n",
              "      <th>nne</th>\n",
              "      <th>saba</th>\n",
              "      <th>sita</th>\n",
              "      <th>tano</th>\n",
              "      <th>tatu</th>\n",
              "      <th>tisa</th>\n",
              "    </tr>\n",
              "  </thead>\n",
              "  <tbody>\n",
              "    <tr>\n",
              "      <th>0</th>\n",
              "      <td>id_jp2pxl0r84ya.wav</td>\n",
              "      <td>3.445582e-07</td>\n",
              "      <td>1.783333e-07</td>\n",
              "      <td>1.657284e-06</td>\n",
              "      <td>2.940470e-06</td>\n",
              "      <td>3.628748e-07</td>\n",
              "      <td>2.491380e-05</td>\n",
              "      <td>4.880637e-06</td>\n",
              "      <td>5.699742e-06</td>\n",
              "      <td>9.999565e-01</td>\n",
              "      <td>3.848114e-07</td>\n",
              "      <td>6.001011e-07</td>\n",
              "      <td>1.503883e-06</td>\n",
              "    </tr>\n",
              "    <tr>\n",
              "      <th>1</th>\n",
              "      <td>id_ndduqqvthbpx.wav</td>\n",
              "      <td>8.880914e-09</td>\n",
              "      <td>1.878523e-08</td>\n",
              "      <td>4.015437e-09</td>\n",
              "      <td>7.618248e-10</td>\n",
              "      <td>2.417528e-08</td>\n",
              "      <td>1.169324e-09</td>\n",
              "      <td>1.092636e-09</td>\n",
              "      <td>7.952422e-09</td>\n",
              "      <td>3.525249e-09</td>\n",
              "      <td>5.649542e-08</td>\n",
              "      <td>8.813495e-09</td>\n",
              "      <td>9.999999e-01</td>\n",
              "    </tr>\n",
              "    <tr>\n",
              "      <th>2</th>\n",
              "      <td>id_36oxymxfcm6q.wav</td>\n",
              "      <td>1.540861e-06</td>\n",
              "      <td>9.318959e-06</td>\n",
              "      <td>8.571685e-07</td>\n",
              "      <td>1.454236e-06</td>\n",
              "      <td>3.387828e-06</td>\n",
              "      <td>6.571866e-07</td>\n",
              "      <td>5.610405e-07</td>\n",
              "      <td>9.271092e-07</td>\n",
              "      <td>2.176834e-06</td>\n",
              "      <td>8.479898e-06</td>\n",
              "      <td>1.880938e-06</td>\n",
              "      <td>9.999688e-01</td>\n",
              "    </tr>\n",
              "    <tr>\n",
              "      <th>3</th>\n",
              "      <td>id_ue9b0to760pg.wav</td>\n",
              "      <td>1.321413e-05</td>\n",
              "      <td>1.136568e-06</td>\n",
              "      <td>1.271602e-07</td>\n",
              "      <td>7.450243e-08</td>\n",
              "      <td>2.181056e-06</td>\n",
              "      <td>4.399706e-06</td>\n",
              "      <td>1.034619e-06</td>\n",
              "      <td>1.440637e-06</td>\n",
              "      <td>1.713531e-06</td>\n",
              "      <td>9.999729e-01</td>\n",
              "      <td>1.327094e-06</td>\n",
              "      <td>3.336706e-07</td>\n",
              "    </tr>\n",
              "    <tr>\n",
              "      <th>4</th>\n",
              "      <td>id_prja4oprb914.wav</td>\n",
              "      <td>8.570924e-02</td>\n",
              "      <td>3.649833e-02</td>\n",
              "      <td>3.115756e-02</td>\n",
              "      <td>9.171913e-02</td>\n",
              "      <td>4.568528e-01</td>\n",
              "      <td>4.863097e-02</td>\n",
              "      <td>7.306726e-03</td>\n",
              "      <td>5.627425e-02</td>\n",
              "      <td>5.463742e-02</td>\n",
              "      <td>3.728841e-02</td>\n",
              "      <td>5.091821e-02</td>\n",
              "      <td>4.300697e-02</td>\n",
              "    </tr>\n",
              "  </tbody>\n",
              "</table>\n",
              "</div>\n",
              "      <button class=\"colab-df-convert\" onclick=\"convertToInteractive('df-8d52c1f3-47ef-4ae3-b01d-f234e80e3e35')\"\n",
              "              title=\"Convert this dataframe to an interactive table.\"\n",
              "              style=\"display:none;\">\n",
              "        \n",
              "  <svg xmlns=\"http://www.w3.org/2000/svg\" height=\"24px\"viewBox=\"0 0 24 24\"\n",
              "       width=\"24px\">\n",
              "    <path d=\"M0 0h24v24H0V0z\" fill=\"none\"/>\n",
              "    <path d=\"M18.56 5.44l.94 2.06.94-2.06 2.06-.94-2.06-.94-.94-2.06-.94 2.06-2.06.94zm-11 1L8.5 8.5l.94-2.06 2.06-.94-2.06-.94L8.5 2.5l-.94 2.06-2.06.94zm10 10l.94 2.06.94-2.06 2.06-.94-2.06-.94-.94-2.06-.94 2.06-2.06.94z\"/><path d=\"M17.41 7.96l-1.37-1.37c-.4-.4-.92-.59-1.43-.59-.52 0-1.04.2-1.43.59L10.3 9.45l-7.72 7.72c-.78.78-.78 2.05 0 2.83L4 21.41c.39.39.9.59 1.41.59.51 0 1.02-.2 1.41-.59l7.78-7.78 2.81-2.81c.8-.78.8-2.07 0-2.86zM5.41 20L4 18.59l7.72-7.72 1.47 1.35L5.41 20z\"/>\n",
              "  </svg>\n",
              "      </button>\n",
              "      \n",
              "  <style>\n",
              "    .colab-df-container {\n",
              "      display:flex;\n",
              "      flex-wrap:wrap;\n",
              "      gap: 12px;\n",
              "    }\n",
              "\n",
              "    .colab-df-convert {\n",
              "      background-color: #E8F0FE;\n",
              "      border: none;\n",
              "      border-radius: 50%;\n",
              "      cursor: pointer;\n",
              "      display: none;\n",
              "      fill: #1967D2;\n",
              "      height: 32px;\n",
              "      padding: 0 0 0 0;\n",
              "      width: 32px;\n",
              "    }\n",
              "\n",
              "    .colab-df-convert:hover {\n",
              "      background-color: #E2EBFA;\n",
              "      box-shadow: 0px 1px 2px rgba(60, 64, 67, 0.3), 0px 1px 3px 1px rgba(60, 64, 67, 0.15);\n",
              "      fill: #174EA6;\n",
              "    }\n",
              "\n",
              "    [theme=dark] .colab-df-convert {\n",
              "      background-color: #3B4455;\n",
              "      fill: #D2E3FC;\n",
              "    }\n",
              "\n",
              "    [theme=dark] .colab-df-convert:hover {\n",
              "      background-color: #434B5C;\n",
              "      box-shadow: 0px 1px 3px 1px rgba(0, 0, 0, 0.15);\n",
              "      filter: drop-shadow(0px 1px 2px rgba(0, 0, 0, 0.3));\n",
              "      fill: #FFFFFF;\n",
              "    }\n",
              "  </style>\n",
              "\n",
              "      <script>\n",
              "        const buttonEl =\n",
              "          document.querySelector('#df-8d52c1f3-47ef-4ae3-b01d-f234e80e3e35 button.colab-df-convert');\n",
              "        buttonEl.style.display =\n",
              "          google.colab.kernel.accessAllowed ? 'block' : 'none';\n",
              "\n",
              "        async function convertToInteractive(key) {\n",
              "          const element = document.querySelector('#df-8d52c1f3-47ef-4ae3-b01d-f234e80e3e35');\n",
              "          const dataTable =\n",
              "            await google.colab.kernel.invokeFunction('convertToInteractive',\n",
              "                                                     [key], {});\n",
              "          if (!dataTable) return;\n",
              "\n",
              "          const docLinkHtml = 'Like what you see? Visit the ' +\n",
              "            '<a target=\"_blank\" href=https://colab.research.google.com/notebooks/data_table.ipynb>data table notebook</a>'\n",
              "            + ' to learn more about interactive tables.';\n",
              "          element.innerHTML = '';\n",
              "          dataTable['output_type'] = 'display_data';\n",
              "          await google.colab.output.renderOutput(dataTable, element);\n",
              "          const docLink = document.createElement('div');\n",
              "          docLink.innerHTML = docLinkHtml;\n",
              "          element.appendChild(docLink);\n",
              "        }\n",
              "      </script>\n",
              "    </div>\n",
              "  </div>\n",
              "  "
            ]
          },
          "metadata": {},
          "execution_count": 21
        }
      ],
      "source": [
        "ss[ss.columns[1:]] = test_preds_tta\n",
        "ss.head()"
      ]
    },
    {
      "cell_type": "code",
      "execution_count": null,
      "metadata": {
        "colab": {
          "base_uri": "https://localhost:8080/",
          "height": 17
        },
        "id": "F_Os_PEN6trV",
        "outputId": "dbaff5ad-913b-4f72-8b42-7a6e96f03812"
      },
      "outputs": [
        {
          "output_type": "display_data",
          "data": {
            "text/plain": [
              "<IPython.core.display.Javascript object>"
            ],
            "application/javascript": [
              "\n",
              "    async function download(id, filename, size) {\n",
              "      if (!google.colab.kernel.accessAllowed) {\n",
              "        return;\n",
              "      }\n",
              "      const div = document.createElement('div');\n",
              "      const label = document.createElement('label');\n",
              "      label.textContent = `Downloading \"${filename}\": `;\n",
              "      div.appendChild(label);\n",
              "      const progress = document.createElement('progress');\n",
              "      progress.max = size;\n",
              "      div.appendChild(progress);\n",
              "      document.body.appendChild(div);\n",
              "\n",
              "      const buffers = [];\n",
              "      let downloaded = 0;\n",
              "\n",
              "      const channel = await google.colab.kernel.comms.open(id);\n",
              "      // Send a message to notify the kernel that we're ready.\n",
              "      channel.send({})\n",
              "\n",
              "      for await (const message of channel.messages) {\n",
              "        // Send a message to notify the kernel that we're ready.\n",
              "        channel.send({})\n",
              "        if (message.buffers) {\n",
              "          for (const buffer of message.buffers) {\n",
              "            buffers.push(buffer);\n",
              "            downloaded += buffer.byteLength;\n",
              "            progress.value = downloaded;\n",
              "          }\n",
              "        }\n",
              "      }\n",
              "      const blob = new Blob(buffers, {type: 'application/binary'});\n",
              "      const a = document.createElement('a');\n",
              "      a.href = window.URL.createObjectURL(blob);\n",
              "      a.download = filename;\n",
              "      div.appendChild(a);\n",
              "      a.click();\n",
              "      div.remove();\n",
              "    }\n",
              "  "
            ]
          },
          "metadata": {}
        },
        {
          "output_type": "display_data",
          "data": {
            "text/plain": [
              "<IPython.core.display.Javascript object>"
            ],
            "application/javascript": [
              "download(\"download_268b0a29-9745-45a9-882e-074ed16ed2e5\", \"baseline_swahili_10.csv\", 322069)"
            ]
          },
          "metadata": {}
        }
      ],
      "source": [
        "name = \"baseline_swahili_10.csv\"\n",
        "ss.to_csv(name, index=False)\n",
        "from google.colab import files\n",
        "files.download(name)"
      ]
    },
    {
      "cell_type": "code",
      "execution_count": null,
      "metadata": {
        "colab": {
          "base_uri": "https://localhost:8080/"
        },
        "id": "VToPZKtRWGtM",
        "outputId": "2ce61f86-b85e-4fde-fbcf-04f53c62ef2a"
      },
      "outputs": [
        {
          "output_type": "execute_result",
          "data": {
            "text/plain": [
              "0.06077343931809228"
            ]
          },
          "metadata": {},
          "execution_count": 23
        }
      ],
      "source": [
        "from sklearn.metrics import log_loss \n",
        "\n",
        "val = pd.read_csv(path+'Validation.csv')[['Word_id', 'Swahili_word']]\n",
        "chk = ss[ss.Word_id.apply(lambda x:x in val.Word_id.unique())]\n",
        "\n",
        "log_loss(val.Swahili_word, chk[chk.columns[1:]])\n",
        "#0.07689922083103892"
      ]
    },
    {
      "cell_type": "code",
      "execution_count": null,
      "metadata": {
        "id": "wXlqBjNZ721p"
      },
      "outputs": [],
      "source": [
        "# name = \"/content/second-res50-recovery2.csv\"\n",
        "# ss.to_csv(name, index=False)"
      ]
    },
    {
      "cell_type": "code",
      "execution_count": null,
      "metadata": {
        "id": "MkbrE8_QyPyd"
      },
      "outputs": [],
      "source": []
    }
  ],
  "metadata": {
    "accelerator": "GPU",
    "colab": {
      "provenance": [],
      "include_colab_link": true
    },
    "gpuClass": "standard",
    "kernelspec": {
      "display_name": "Python 3",
      "name": "python3"
    },
    "language_info": {
      "name": "python"
    }
  },
  "nbformat": 4,
  "nbformat_minor": 0
}